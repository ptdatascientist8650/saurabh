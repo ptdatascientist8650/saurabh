{
 "cells": [
  {
   "cell_type": "markdown",
   "id": "d837c7c9",
   "metadata": {},
   "source": [
    "# ASSIGNMENT@1"
   ]
  },
  {
   "cell_type": "markdown",
   "id": "510361b7",
   "metadata": {},
   "source": [
    "answer 1 =  * , -87.8 , 6 , = values \n",
    "           \n",
    "           + , - , / ,  = expressions (mathematical operators) "
   ]
  },
  {
   "cell_type": "markdown",
   "id": "cfeb1cf8",
   "metadata": {},
   "source": [
    "answer 2 = string is character that is written inside sinle or double code. example = 'saurabh' is a string \n",
    "  \n",
    "           variables are characters in different format such as integer , float etc."
   ]
  },
  {
   "cell_type": "markdown",
   "id": "afbaa4c0",
   "metadata": {},
   "source": [
    "answer 3 = three different types of data types are\n",
    "           \n",
    "           1) numeric  as 1,2 etc.\n",
    "           2) sequence as string , list , tumples etc.\n",
    "           3) boolean  as true or false "
   ]
  },
  {
   "cell_type": "markdown",
   "id": "7db26814",
   "metadata": {},
   "source": [
    "answer 4 = expressions are made up of operators and variables and numeric type.\n",
    "         \n",
    "           expression involes information ."
   ]
  },
  {
   "cell_type": "markdown",
   "id": "aa01d816",
   "metadata": {},
   "source": [
    "answer 5 = expressions contains values and mathematical operators whereas statement is a command that is executed through interpreter."
   ]
  },
  {
   "cell_type": "markdown",
   "id": "8d563a57",
   "metadata": {},
   "source": [
    "answer 6 ="
   ]
  },
  {
   "cell_type": "code",
   "execution_count": 15,
   "id": "638e8908",
   "metadata": {},
   "outputs": [],
   "source": [
    "bacon = 22"
   ]
  },
  {
   "cell_type": "code",
   "execution_count": 16,
   "id": "5a7cdaab",
   "metadata": {},
   "outputs": [
    {
     "data": {
      "text/plain": [
       "22"
      ]
     },
     "execution_count": 16,
     "metadata": {},
     "output_type": "execute_result"
    }
   ],
   "source": [
    "bacon"
   ]
  },
  {
   "cell_type": "code",
   "execution_count": 17,
   "id": "31056598",
   "metadata": {},
   "outputs": [
    {
     "data": {
      "text/plain": [
       "23"
      ]
     },
     "execution_count": 17,
     "metadata": {},
     "output_type": "execute_result"
    }
   ],
   "source": [
    "bacon+1"
   ]
  },
  {
   "cell_type": "markdown",
   "id": "f3555104",
   "metadata": {},
   "source": [
    "answer 7 = "
   ]
  },
  {
   "cell_type": "code",
   "execution_count": 18,
   "id": "7163acc6",
   "metadata": {},
   "outputs": [],
   "source": [
    "a = 'spam' + 'spamspam'"
   ]
  },
  {
   "cell_type": "code",
   "execution_count": 19,
   "id": "18af8084",
   "metadata": {},
   "outputs": [
    {
     "data": {
      "text/plain": [
       "'spamspamspam'"
      ]
     },
     "execution_count": 19,
     "metadata": {},
     "output_type": "execute_result"
    }
   ],
   "source": [
    "a"
   ]
  },
  {
   "cell_type": "code",
   "execution_count": 20,
   "id": "c5b8bc56",
   "metadata": {},
   "outputs": [
    {
     "data": {
      "text/plain": [
       "'spamspamspam'"
      ]
     },
     "execution_count": 20,
     "metadata": {},
     "output_type": "execute_result"
    }
   ],
   "source": [
    "'spam'*3"
   ]
  },
  {
   "cell_type": "markdown",
   "id": "3f5c607a",
   "metadata": {},
   "source": [
    "answer 8 = because variables not start from number ."
   ]
  },
  {
   "cell_type": "markdown",
   "id": "4ff90d86",
   "metadata": {},
   "source": [
    "answer 9 = int()\n",
    "         \n",
    "           float()\n",
    "            \n",
    "            str()\n",
    "            \n",
    "            "
   ]
  },
  {
   "cell_type": "markdown",
   "id": "ec80cc2f",
   "metadata": {},
   "source": [
    "answer 10 =  this expression causes error because it contains numeric value 99 as an integer while others are in string forms . \n",
    "\n",
    "             to execute this expression we should have to convert 99 to string form  as executed below ."
   ]
  },
  {
   "cell_type": "code",
   "execution_count": 29,
   "id": "28cf370e",
   "metadata": {},
   "outputs": [],
   "source": [
    "a = 'i have eaten' + '99' + 'burritos'"
   ]
  },
  {
   "cell_type": "code",
   "execution_count": 30,
   "id": "4bb7e63d",
   "metadata": {},
   "outputs": [
    {
     "data": {
      "text/plain": [
       "'i have eaten99burritos'"
      ]
     },
     "execution_count": 30,
     "metadata": {},
     "output_type": "execute_result"
    }
   ],
   "source": [
    "a"
   ]
  },
  {
   "cell_type": "code",
   "execution_count": null,
   "id": "9e2b185a",
   "metadata": {},
   "outputs": [],
   "source": []
  },
  {
   "cell_type": "code",
   "execution_count": null,
   "id": "fcabd626",
   "metadata": {},
   "outputs": [],
   "source": []
  },
  {
   "cell_type": "code",
   "execution_count": null,
   "id": "16f39f0d",
   "metadata": {},
   "outputs": [],
   "source": []
  },
  {
   "cell_type": "code",
   "execution_count": null,
   "id": "8de57e11",
   "metadata": {},
   "outputs": [],
   "source": []
  },
  {
   "cell_type": "code",
   "execution_count": null,
   "id": "258212e1",
   "metadata": {},
   "outputs": [],
   "source": []
  },
  {
   "cell_type": "code",
   "execution_count": null,
   "id": "6752e4d0",
   "metadata": {},
   "outputs": [],
   "source": []
  },
  {
   "cell_type": "code",
   "execution_count": null,
   "id": "c02bf53b",
   "metadata": {},
   "outputs": [],
   "source": []
  },
  {
   "cell_type": "code",
   "execution_count": null,
   "id": "ff25fde7",
   "metadata": {},
   "outputs": [],
   "source": []
  }
 ],
 "metadata": {
  "kernelspec": {
   "display_name": "Python 3 (ipykernel)",
   "language": "python",
   "name": "python3"
  },
  "language_info": {
   "codemirror_mode": {
    "name": "ipython",
    "version": 3
   },
   "file_extension": ".py",
   "mimetype": "text/x-python",
   "name": "python",
   "nbconvert_exporter": "python",
   "pygments_lexer": "ipython3",
   "version": "3.9.12"
  }
 },
 "nbformat": 4,
 "nbformat_minor": 5
}
